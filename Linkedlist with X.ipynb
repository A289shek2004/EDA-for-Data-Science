{
 "cells": [
  {
   "cell_type": "code",
   "execution_count": 1,
   "id": "33943e01",
   "metadata": {},
   "outputs": [
    {
     "name": "stdout",
     "output_type": "stream",
     "text": [
      "None\n"
     ]
    }
   ],
   "source": [
    "# How to create a Node/Singly linked list?\n",
    "class Node:\n",
    "    def __init__(self,value):\n",
    "        self.data=value\n",
    "        self.next=None\n",
    "a=Node(1)\n",
    "print(a.next)"
   ]
  },
  {
   "cell_type": "code",
   "execution_count": 2,
   "id": "1b634130",
   "metadata": {},
   "outputs": [
    {
     "name": "stdout",
     "output_type": "stream",
     "text": [
      "<__main__.Node object at 0x000001B8E2297510>\n",
      "<__main__.Node object at 0x000001B8E2297510>\n"
     ]
    }
   ],
   "source": [
    "# How to connect them the nodes?\n",
    "b=Node(2)\n",
    "c=Node(3)\n",
    "a.next=b\n",
    "b.next=c\n",
    "print(b)\n",
    "print(a.next)"
   ]
  },
  {
   "cell_type": "code",
   "execution_count": 3,
   "id": "222f8b2d",
   "metadata": {},
   "outputs": [],
   "source": [
    "class Node:\n",
    "    def __init__(self,value):\n",
    "        self.data=value\n",
    "        self.next=None   \n"
   ]
  },
  {
   "cell_type": "code",
   "execution_count": 4,
   "id": "c0966f12",
   "metadata": {},
   "outputs": [
    {
     "data": {
      "text/plain": [
       "0"
      ]
     },
     "execution_count": 4,
     "metadata": {},
     "output_type": "execute_result"
    }
   ],
   "source": [
    "# Finding the lenght of the LL\n",
    "class Linkedlist:\n",
    "    def __init__(self):\n",
    "        self.head=None # this is for empty list\n",
    "        self.n=0\n",
    "    def __len__(self):\n",
    "        return self.n\n",
    "        \n",
    "        \n",
    "L=Linkedlist()\n",
    "len(L)"
   ]
  },
  {
   "cell_type": "markdown",
   "id": "a50a3deb",
   "metadata": {},
   "source": [
    "### Methods:\n",
    "\n",
    "Insert :- Head,Tail,In_between\n",
    "\n",
    "Delete:- Head,Tail,In_between, By_values, By_Index\n",
    "\n",
    "Traverse: Print\n",
    "\n",
    "Search: By_values, By_Index\n"
   ]
  },
  {
   "cell_type": "code",
   "execution_count": 16,
   "id": "bb9a358b",
   "metadata": {},
   "outputs": [
    {
     "name": "stdout",
     "output_type": "stream",
     "text": [
      "5\n"
     ]
    }
   ],
   "source": [
    "# How to insert a nodes in empty LL\n",
    "# Insertion fron head\n",
    "class Linkedlist:\n",
    "    def __init__(self):\n",
    "        self.head=None # this is for empty list\n",
    "        self.n=0\n",
    "    def __len__(self):\n",
    "        return self.n\n",
    "    \n",
    "    def insert_head(self,value):\n",
    "        new_node=Node(value) #new node\n",
    "        new_node.next=self.head #create connection\n",
    "        self.head=new_node # reassign head\n",
    "        \n",
    "        self.n=self.n+1 # increment n\n",
    "        \n",
    "        \n",
    "        \n",
    "L=Linkedlist()\n",
    "L.insert_head(1)\n",
    "L.insert_head(2)\n",
    "L.insert_head(3)\n",
    "L.insert_head(4)\n",
    "L.insert_head(5)\n",
    "\n",
    "print(L.head.data)"
   ]
  },
  {
   "cell_type": "code",
   "execution_count": null,
   "id": "dc50ea61",
   "metadata": {},
   "outputs": [],
   "source": [
    "# Define the structure of LL\n",
    "# Creating the traverse function\n",
    "\n",
    "class Linkedlist:\n",
    "    def __init__(self):\n",
    "        self.head=None # this is for empty list\n",
    "        self.n=0\n",
    "    def __len__(self):\n",
    "        return self.n\n",
    "    \n",
    "    def insert_head(self,value):\n",
    "        new_node=Node(value) #new node\n",
    "        new_node.next=self.head #creat connection\n",
    "        self.head=new_node # reassign head\n",
    "        self.n=self.n+1 # increment n\n",
    "        \n",
    "    def traverse(self):\n",
    "        temp=self.head\n",
    "        result=''\n",
    "        while temp !=None:\n",
    "            result =result + str(temp.data)+'-->'\n",
    "            print(temp.data, end=\"--> \")\n",
    "            temp = temp.next\n",
    "        return result[:-3]\n",
    "        \n",
    "        \n",
    "L=Linkedlist()\n",
    "L.insert_head(1)\n",
    "L.insert_head(2)\n",
    "L.insert_head(3)\n",
    "L.insert_head(4)\n",
    "L.insert_head(5)"
   ]
  },
  {
   "cell_type": "code",
   "execution_count": null,
   "id": "0f55141d",
   "metadata": {},
   "outputs": [],
   "source": [
    "L.traverse()"
   ]
  },
  {
   "cell_type": "code",
   "execution_count": null,
   "id": "f087652e",
   "metadata": {},
   "outputs": [],
   "source": [
    "# Insert from head\n",
    "class Linkedlist:\n",
    "    def __init__(self):\n",
    "        self.head=None # this is for empty list\n",
    "        self.n=0\n",
    "    def __len__(self):\n",
    "        return self.n\n",
    "    \n",
    "    def insert_head(self,value):\n",
    "        new_node=Node(value) #new node\n",
    "        new_node.next=self.head #creat connection\n",
    "        self.head=new_node # reassign head\n",
    "        self.n=self.n+1 # increment n\n",
    "        \n",
    "    def traverse(self):\n",
    "        temp=self.head\n",
    "        result=''\n",
    "        while temp !=None:\n",
    "            result =result + str(temp.data)+'-->'\n",
    "            print(temp.data, end=\"--> \")\n",
    "            temp=temp.next\n",
    "        return result[:-3]\n",
    "    \n",
    "    def insert_tail(self,value): #append\n",
    "        new_node=Node(value)\n",
    "        \n",
    "        if self.head==None:\n",
    "            self.head=new_node\n",
    "            self.n=self.n+1\n",
    "            return\n",
    "    \n",
    "        temp=self.head\n",
    "        while temp.next != None:\n",
    "            temp= temp.next\n",
    "            \n",
    "        temp.next=new_node\n",
    "        self.n=self.n+1\n",
    "        \n",
    "        \n",
    "            \n",
    "        \n",
    "L=Linkedlist()\n"
   ]
  },
  {
   "cell_type": "code",
   "execution_count": null,
   "id": "78315786",
   "metadata": {},
   "outputs": [],
   "source": [
    "L.insert_head(1)\n",
    "L.insert_head(2)\n",
    "L.insert_head(3)\n",
    "L.insert_head(4)\n",
    "L.insert_head(5)"
   ]
  },
  {
   "cell_type": "code",
   "execution_count": null,
   "id": "09623144",
   "metadata": {},
   "outputs": [],
   "source": [
    "L.insert_tail(0)"
   ]
  },
  {
   "cell_type": "code",
   "execution_count": null,
   "id": "1ccc761c",
   "metadata": {},
   "outputs": [],
   "source": [
    "L.traverse()"
   ]
  },
  {
   "cell_type": "code",
   "execution_count": 36,
   "id": "ffa16186",
   "metadata": {},
   "outputs": [],
   "source": [
    "class Linkedlist:\n",
    "    def __init__(self):\n",
    "        self.head=None # this is for empty list\n",
    "        self.n=0\n",
    "    def __len__(self):\n",
    "        return self.n\n",
    "    \n",
    "    def insert_head(self,value):\n",
    "        new_node=Node(value) #new node\n",
    "        new_node.next=self.head #creat connection\n",
    "        self.head=new_node # reassign head\n",
    "        self.n=self.n+1 # increment n\n",
    "        \n",
    "    def traverse(self):\n",
    "        temp=self.head\n",
    "        result=''\n",
    "        while temp !=None:\n",
    "            result =result + str(temp.data)+'-->'\n",
    "            \n",
    "            temp=temp.next\n",
    "        return result[:-3]\n",
    "    \n",
    "        \n",
    "    def in_between(self,after,value):\n",
    "        new_node=Node(value)\n",
    "        temp=self.head\n",
    "        \n",
    "        while temp != None:\n",
    "            if temp.data==after:\n",
    "                break\n",
    "            temp=temp.next\n",
    "            \n",
    "        \n",
    "        if temp !=None:\n",
    "            new_node.next=temp.next\n",
    "            temp.next=new_node\n",
    "            self.n=self.n+1\n",
    "        else:\n",
    "            return \"Given item not found\"\n",
    "       \n",
    "L=Linkedlist()\n"
   ]
  },
  {
   "cell_type": "code",
   "execution_count": 37,
   "id": "f6e03f90",
   "metadata": {},
   "outputs": [
    {
     "data": {
      "text/plain": [
       "'5-->4-->3-->2-->1'"
      ]
     },
     "execution_count": 37,
     "metadata": {},
     "output_type": "execute_result"
    }
   ],
   "source": [
    "L.insert_head(1)\n",
    "L.insert_head(2)\n",
    "L.insert_head(3)\n",
    "L.insert_head(4)\n",
    "L.insert_head(5)\n",
    "L.traverse()"
   ]
  },
  {
   "cell_type": "code",
   "execution_count": 27,
   "id": "d64650b8",
   "metadata": {},
   "outputs": [
    {
     "data": {
      "text/plain": [
       "'5-->4-->3-->2-->1-->100-->100-->100'"
      ]
     },
     "execution_count": 27,
     "metadata": {},
     "output_type": "execute_result"
    }
   ],
   "source": [
    "L.in_between(1,100)\n",
    "L.traverse()"
   ]
  },
  {
   "cell_type": "code",
   "execution_count": 38,
   "id": "7cf8ca10",
   "metadata": {},
   "outputs": [
    {
     "ename": "AttributeError",
     "evalue": "'Linkedlist' object has no attribute 'at_index'",
     "output_type": "error",
     "traceback": [
      "\u001b[1;31m---------------------------------------------------------------------------\u001b[0m",
      "\u001b[1;31mAttributeError\u001b[0m                            Traceback (most recent call last)",
      "Cell \u001b[1;32mIn[38], line 16\u001b[0m\n\u001b[0;32m     14\u001b[0m         prev_node\u001b[38;5;241m.\u001b[39mnext \u001b[38;5;241m=\u001b[39m new_node\n\u001b[0;32m     15\u001b[0m     \u001b[38;5;28mself\u001b[39m\u001b[38;5;241m.\u001b[39msize \u001b[38;5;241m+\u001b[39m\u001b[38;5;241m=\u001b[39m \u001b[38;5;241m1\u001b[39m\n\u001b[1;32m---> 16\u001b[0m L\u001b[38;5;241m.\u001b[39mat_index(\u001b[38;5;241m3\u001b[39m,\u001b[38;5;241m200\u001b[39m)\n\u001b[0;32m     17\u001b[0m L\u001b[38;5;241m.\u001b[39mtraverse()\n",
      "\u001b[1;31mAttributeError\u001b[0m: 'Linkedlist' object has no attribute 'at_index'"
     ]
    }
   ],
   "source": [
    "    def at_index(self, index, value):\n",
    "        if index < 0 or index > self.size:\n",
    "            raise IndexError(\"Index out of range\")\n",
    "        new_node = Node(value)\n",
    "        if index == 0:\n",
    "            self.insert_head(value)\n",
    "        elif index == self.size:\n",
    "            self.insert_tail(value)\n",
    "        else:\n",
    "            prev_node = self.head\n",
    "            for _ in range(index - 1):\n",
    "                prev_node = prev_node.next\n",
    "            new_node.next = prev_node.next\n",
    "            prev_node.next = new_node\n",
    "        self.size += 1\n",
    "L.at_index(3,200)\n",
    "L.traverse()"
   ]
  },
  {
   "cell_type": "code",
   "execution_count": 31,
   "id": "522e6909",
   "metadata": {},
   "outputs": [
    {
     "data": {
      "text/plain": [
       "''"
      ]
     },
     "execution_count": 31,
     "metadata": {},
     "output_type": "execute_result"
    }
   ],
   "source": [
    "# Deletion part\n",
    "# Clear the LL/ Empty list\n",
    "\n",
    "class Linkedlist:\n",
    "    def __init__(self):\n",
    "        self.head=None # this is for empty list\n",
    "        self.n=0\n",
    "    def __len__(self):\n",
    "        return self.n\n",
    "    \n",
    "    def insert_head(self,value):\n",
    "        new_node=Node(value) #new node\n",
    "        new_node.next=self.head #creat connection\n",
    "        self.head=new_node # reassign head\n",
    "        self.n=self.n+1 # increment n\n",
    "        \n",
    "    def traverse(self):\n",
    "        temp=self.head\n",
    "        result=''\n",
    "        while temp !=None:\n",
    "            result =result + str(temp.data)+'-->'\n",
    "            \n",
    "            temp=temp.next\n",
    "        return result[:-3]\n",
    "    \n",
    "    def clear(self):\n",
    "        self.head=None\n",
    "        self.n=0\n",
    "        \n",
    "L=Linkedlist()\n",
    "L.clear()\n",
    "L.traverse()"
   ]
  },
  {
   "cell_type": "code",
   "execution_count": 32,
   "id": "4bb575ca",
   "metadata": {},
   "outputs": [
    {
     "data": {
      "text/plain": [
       "'5-->4-->3-->2-->1'"
      ]
     },
     "execution_count": 32,
     "metadata": {},
     "output_type": "execute_result"
    }
   ],
   "source": [
    "L.insert_head(1)\n",
    "L.insert_head(2)\n",
    "L.insert_head(3)\n",
    "L.insert_head(4)\n",
    "L.insert_head(5)\n",
    "L.traverse()"
   ]
  },
  {
   "cell_type": "code",
   "execution_count": null,
   "id": "0e7320a2",
   "metadata": {},
   "outputs": [],
   "source": [
    "# Deletion from head\n",
    "\n",
    "class Linkedlist:\n",
    "    def __init__(self):\n",
    "        self.head=None # this is for empty list\n",
    "        self.n=0\n",
    "    def __len__(self):\n",
    "        return self.n\n",
    "    \n",
    "    def insert_head(self,value):\n",
    "        new_node=Node(value) #new node\n",
    "        new_node.next=self.head #creat connection\n",
    "        self.head=new_node # reassign head\n",
    "        self.n=self.n+1 # increment n\n",
    "        \n",
    "    def traverse(self):\n",
    "        temp=self.head\n",
    "        result=''\n",
    "        while temp !=None:\n",
    "            result =result + str(temp.data)+'-->'\n",
    "            \n",
    "            temp=temp.next\n",
    "        return result[:-3]\n",
    "    \n",
    "    def delete_head(self):\n",
    "        if self.head==None:\n",
    "            return 'Empty LL'\n",
    "        self.head=self.head.next\n",
    "        \n",
    "        self.n=self.n-1\n",
    "        \n",
    "L=Linkedlist()\n",
    "# L.insert_head(1)\n",
    "L.delete_head()"
   ]
  },
  {
   "cell_type": "code",
   "execution_count": null,
   "id": "0813eed1",
   "metadata": {},
   "outputs": [],
   "source": [
    "L.traverse()"
   ]
  },
  {
   "cell_type": "code",
   "execution_count": null,
   "id": "b10c3b52",
   "metadata": {},
   "outputs": [],
   "source": [
    "# Deletion from tail\n",
    "\n",
    "class Linkedlist:\n",
    "    def __init__(self):\n",
    "        self.head=None # this is for empty list\n",
    "        self.n=0\n",
    "    def __len__(self):\n",
    "        return self.n\n",
    "    \n",
    "    def insert_head(self,value):\n",
    "        new_node=Node(value) #new node\n",
    "        new_node.next=self.head #creat connection\n",
    "        self.head=new_node # reassign head\n",
    "        self.n=self.n+1 # increment n\n",
    "        \n",
    "    def traverse(self):\n",
    "        temp=self.head\n",
    "        result=''\n",
    "        while temp !=None:\n",
    "            result =result + str(temp.data)+'-->'\n",
    "            \n",
    "            temp=temp.next\n",
    "        return result[:-3]\n",
    "    \n",
    "    def delete_head(self):\n",
    "        if self.head==None:\n",
    "            return 'Empty LL'\n",
    "        self.head=self.head.next\n",
    "        self.n=self.n-1\n",
    "        \n",
    "    def delete_tail(self): #pop()\n",
    "        if self.head==None:\n",
    "            return 'Empty LL'\n",
    "        temp=self.head\n",
    "        if temp.next==None:\n",
    "            return self.delete_head() \n",
    "        \n",
    "        while temp.next.next !=  None:\n",
    "            temp=temp.next\n",
    "        temp.next=None\n",
    "        self.n=self.n-1\n",
    "        \n",
    "        \n",
    "L=Linkedlist()\n",
    "# L.insert_head(1)\n",
    "L.delete_tail()"
   ]
  },
  {
   "cell_type": "code",
   "execution_count": null,
   "id": "130226f1",
   "metadata": {},
   "outputs": [],
   "source": [
    "# search and delete the node\n",
    "class Linkedlist:\n",
    "    def __init__(self):\n",
    "        self.head=None # this is for empty list\n",
    "        self.n=0\n",
    "    def __len__(self):\n",
    "        return self.n\n",
    "    \n",
    "    def insert_head(self,value):\n",
    "        new_node=Node(value) #new node\n",
    "        new_node.next=self.head #creat connection\n",
    "        self.head=new_node # reassign head\n",
    "        self.n=self.n+1 # increment n\n",
    "        \n",
    "    def traverse(self):\n",
    "        temp=self.head\n",
    "        result=''\n",
    "        while temp !=None:\n",
    "            result =result + str(temp.data)+'-->'\n",
    "            \n",
    "            temp=temp.next\n",
    "        return result[:-3]\n",
    "    def delete_head(self):\n",
    "        if self.head==None:\n",
    "            return 'Empty LL'\n",
    "        self.head=self.head.next\n",
    "        self.n=self.n-1\n",
    "        \n",
    "    \n",
    "    def remove(self,value):\n",
    "        if self.head==None:\n",
    "            return 'Empty LL'\n",
    "        if self.head.data==value:\n",
    "            return self.delete_head()\n",
    "        temp=self.head\n",
    "        while temp.next !=None:\n",
    "            if temp.next.data==value:\n",
    "                break\n",
    "            temp= temp.next\n",
    "#             case1: item mil gya\n",
    "        if temp.next==None:\n",
    "            return 'Not found'\n",
    "        else: #case2: item nhi mila\n",
    "            temp.next=temp.next.next\n",
    "            \n",
    "#             \n",
    "L=Linkedlist()\n",
    "L.insert_head(1)\n",
    "L.insert_head(2)\n",
    "L.insert_head(3)\n",
    "L.insert_head(4)\n",
    "L.insert_head(5)         \n",
    "    "
   ]
  },
  {
   "cell_type": "code",
   "execution_count": null,
   "id": "c9562c7c",
   "metadata": {},
   "outputs": [],
   "source": [
    "L.remove(2)\n",
    "L.traverse()\n"
   ]
  },
  {
   "cell_type": "code",
   "execution_count": null,
   "id": "e7dd2b64",
   "metadata": {},
   "outputs": [],
   "source": [
    "class Linkedlist:\n",
    "    def __init__(self):\n",
    "        self.head=None # this is for empty list\n",
    "        self.n=0\n",
    "    def __len__(self):\n",
    "        return self.n\n",
    "    \n",
    "    def insert_head(self,value):\n",
    "        new_node=Node(value) #new node\n",
    "        new_node.next=self.head #creat connection\n",
    "        self.head=new_node # reassign head\n",
    "        self.n=self.n+1 # increment n\n",
    "        \n",
    "    def traverse(self):\n",
    "        temp=self.head\n",
    "        result=''\n",
    "        while temp !=None:\n",
    "            result =result + str(temp.data)+'-->'\n",
    "            \n",
    "            temp=temp.next\n",
    "        return result[:-3]\n",
    "    def delete_head(self):\n",
    "        if self.head==None:\n",
    "            return 'Empty LL'\n",
    "        self.head=self.head.next\n",
    "        self.n=self.n-1\n",
    "        \n",
    "    def search(self,value):\n",
    "        temp=self.head\n",
    "        pos=0\n",
    "        while temp !=None:\n",
    "            if temp.data==value:\n",
    "                return pos\n",
    "            temp=temp.next\n",
    "            pos=pos+1\n",
    "        return 'Not found'\n",
    "    \n",
    "L=Linkedlist()\n",
    "L.insert_head(1)\n",
    "L.insert_head(2)\n",
    "L.insert_head(3)\n",
    "L.insert_head(4)\n",
    "L.insert_head(5)       "
   ]
  },
  {
   "cell_type": "code",
   "execution_count": null,
   "id": "1b005078",
   "metadata": {},
   "outputs": [],
   "source": [
    "L.search(6)\n"
   ]
  },
  {
   "cell_type": "code",
   "execution_count": null,
   "id": "83484921",
   "metadata": {},
   "outputs": [],
   "source": [
    "L.traverse()"
   ]
  },
  {
   "cell_type": "markdown",
   "id": "5abbdd6f",
   "metadata": {},
   "source": [
    "#  Application/ Problems on Linkedlist"
   ]
  },
  {
   "cell_type": "code",
   "execution_count": null,
   "id": "c380592d",
   "metadata": {},
   "outputs": [],
   "source": []
  },
  {
   "cell_type": "code",
   "execution_count": null,
   "id": "ac4fe078",
   "metadata": {},
   "outputs": [],
   "source": []
  },
  {
   "cell_type": "code",
   "execution_count": null,
   "id": "4e2c70ee",
   "metadata": {},
   "outputs": [],
   "source": []
  },
  {
   "cell_type": "code",
   "execution_count": null,
   "id": "18aaaf59",
   "metadata": {},
   "outputs": [],
   "source": []
  },
  {
   "cell_type": "code",
   "execution_count": null,
   "id": "9bbba95a",
   "metadata": {},
   "outputs": [],
   "source": []
  },
  {
   "cell_type": "code",
   "execution_count": null,
   "id": "bd31a8ec",
   "metadata": {},
   "outputs": [],
   "source": []
  },
  {
   "cell_type": "code",
   "execution_count": null,
   "id": "f8f6b926",
   "metadata": {},
   "outputs": [],
   "source": []
  },
  {
   "cell_type": "code",
   "execution_count": null,
   "id": "6ceb970d",
   "metadata": {},
   "outputs": [],
   "source": []
  },
  {
   "cell_type": "code",
   "execution_count": null,
   "id": "aa4afa22",
   "metadata": {},
   "outputs": [],
   "source": []
  },
  {
   "cell_type": "code",
   "execution_count": null,
   "id": "39f00e78",
   "metadata": {},
   "outputs": [],
   "source": []
  },
  {
   "cell_type": "code",
   "execution_count": null,
   "id": "624c78e2",
   "metadata": {},
   "outputs": [],
   "source": []
  },
  {
   "cell_type": "code",
   "execution_count": null,
   "id": "9bb0e092",
   "metadata": {},
   "outputs": [],
   "source": []
  },
  {
   "cell_type": "code",
   "execution_count": null,
   "id": "ee2afd85",
   "metadata": {},
   "outputs": [],
   "source": []
  },
  {
   "cell_type": "code",
   "execution_count": null,
   "id": "6a5e6043",
   "metadata": {},
   "outputs": [],
   "source": []
  },
  {
   "cell_type": "code",
   "execution_count": null,
   "id": "838417c8",
   "metadata": {},
   "outputs": [],
   "source": []
  },
  {
   "cell_type": "code",
   "execution_count": null,
   "id": "b6c9d81c",
   "metadata": {},
   "outputs": [],
   "source": []
  },
  {
   "cell_type": "code",
   "execution_count": null,
   "id": "ba619e51",
   "metadata": {},
   "outputs": [],
   "source": []
  },
  {
   "cell_type": "code",
   "execution_count": null,
   "id": "a69b8e56",
   "metadata": {},
   "outputs": [],
   "source": []
  }
 ],
 "metadata": {
  "kernelspec": {
   "display_name": "Python 3 (ipykernel)",
   "language": "python",
   "name": "python3"
  },
  "language_info": {
   "codemirror_mode": {
    "name": "ipython",
    "version": 3
   },
   "file_extension": ".py",
   "mimetype": "text/x-python",
   "name": "python",
   "nbconvert_exporter": "python",
   "pygments_lexer": "ipython3",
   "version": "3.11.4"
  }
 },
 "nbformat": 4,
 "nbformat_minor": 5
}
